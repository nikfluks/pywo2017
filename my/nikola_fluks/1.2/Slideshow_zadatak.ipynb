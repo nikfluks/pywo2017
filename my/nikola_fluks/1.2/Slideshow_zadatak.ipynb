{
 "cells": [
  {
   "cell_type": "markdown",
   "metadata": {},
   "source": [
    "# zadatak\n",
    "* procitati jupyter notebook .ipynb (.json format)\n",
    "* pronaci H1 header celije i njih pretvoriti u SLIDE celije (u metadata dio)\n",
    "* snimiti (json.dump)"
   ]
  },
  {
   "cell_type": "code",
   "execution_count": 1,
   "metadata": {
    "collapsed": true
   },
   "outputs": [],
   "source": [
    "import json"
   ]
  },
  {
   "cell_type": "code",
   "execution_count": 3,
   "metadata": {},
   "outputs": [],
   "source": [
    "with open(\"Slideshow.ipynb\") as f:\n",
    "    d = json.load(f)\n",
    "    "
   ]
  },
  {
   "cell_type": "code",
   "execution_count": 4,
   "metadata": {},
   "outputs": [
    {
     "data": {
      "text/plain": [
       "dict"
      ]
     },
     "execution_count": 4,
     "metadata": {},
     "output_type": "execute_result"
    }
   ],
   "source": [
    "type(d)"
   ]
  },
  {
   "cell_type": "code",
   "execution_count": 5,
   "metadata": {
    "collapsed": true
   },
   "outputs": [],
   "source": [
    "from pprint import pprint"
   ]
  },
  {
   "cell_type": "code",
   "execution_count": 6,
   "metadata": {
    "collapsed": true
   },
   "outputs": [
    {
     "name": "stdout",
     "output_type": "stream",
     "text": [
      "{'cells': [{'cell_type': 'markdown',\n",
      "            'metadata': {'slideshow': {'slide_type': 'slide'}},\n",
      "            'source': ['## SlideShow']},\n",
      "           {'cell_type': 'markdown',\n",
      "            'metadata': {'slideshow': {'slide_type': 'fragment'}},\n",
      "            'source': ['fragment']},\n",
      "           {'cell_type': 'markdown',\n",
      "            'metadata': {'slideshow': {'slide_type': 'subslide'}},\n",
      "            'source': ['subslide']},\n",
      "           {'cell_type': 'markdown',\n",
      "            'metadata': {'slideshow': {'slide_type': 'subslide'}},\n",
      "            'source': ['## Slide 2']},\n",
      "           {'cell_type': 'code',\n",
      "            'execution_count': None,\n",
      "            'metadata': {},\n",
      "            'outputs': [],\n",
      "            'source': ['!jupyter nbconvert Slideshow.ipynb --to slides --post '\n",
      "                       'serve']},\n",
      "           {'cell_type': 'markdown',\n",
      "            'metadata': {},\n",
      "            'source': ['# zadatak\\n',\n",
      "                       '* procitati jupyter notebook .ipynb (.json format)\\n',\n",
      "                       '* pronaci H1 header celije i njih pretvoriti u SLIDE '\n",
      "                       'celije']},\n",
      "           {'cell_type': 'code',\n",
      "            'execution_count': 5,\n",
      "            'metadata': {'collapsed': True},\n",
      "            'outputs': [],\n",
      "            'source': ['import json']},\n",
      "           {'cell_type': 'code',\n",
      "            'execution_count': None,\n",
      "            'metadata': {'collapsed': True},\n",
      "            'outputs': [],\n",
      "            'source': []}],\n",
      " 'metadata': {'celltoolbar': 'Slideshow',\n",
      "              'kernelspec': {'display_name': 'Python 3',\n",
      "                             'language': 'python',\n",
      "                             'name': 'python3'},\n",
      "              'language_info': {'codemirror_mode': {'name': 'ipython',\n",
      "                                                    'version': 3},\n",
      "                                'file_extension': '.py',\n",
      "                                'mimetype': 'text/x-python',\n",
      "                                'name': 'python',\n",
      "                                'nbconvert_exporter': 'python',\n",
      "                                'pygments_lexer': 'ipython3',\n",
      "                                'version': '3.6.1'}},\n",
      " 'nbformat': 4,\n",
      " 'nbformat_minor': 2}\n"
     ]
    }
   ],
   "source": [
    "pprint(d)"
   ]
  },
  {
   "cell_type": "code",
   "execution_count": null,
   "metadata": {
    "collapsed": true
   },
   "outputs": [],
   "source": []
  }
 ],
 "metadata": {
  "kernelspec": {
   "display_name": "Python 3",
   "language": "python",
   "name": "python3"
  },
  "language_info": {
   "codemirror_mode": {
    "name": "ipython",
    "version": 3
   },
   "file_extension": ".py",
   "mimetype": "text/x-python",
   "name": "python",
   "nbconvert_exporter": "python",
   "pygments_lexer": "ipython3",
   "version": "3.6.1"
  }
 },
 "nbformat": 4,
 "nbformat_minor": 2
}
